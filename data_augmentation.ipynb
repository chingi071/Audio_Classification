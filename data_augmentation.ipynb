{
 "cells": [
  {
   "cell_type": "code",
   "execution_count": 1,
   "id": "12ab2ff2",
   "metadata": {},
   "outputs": [],
   "source": [
    "import os\n",
    "import pandas as pd\n",
    "import shutil\n",
    "import torchaudio\n",
    "import torch\n",
    "import time\n",
    "from tqdm import tqdm \n",
    "from audiomentations import Compose, AddGaussianNoise, TimeStretch, PitchShift, Shift, Gain, Clip"
   ]
  },
  {
   "cell_type": "code",
   "execution_count": 2,
   "id": "4eb29ec6",
   "metadata": {},
   "outputs": [],
   "source": [
    "wav_path = 'tomofun_train'\n",
    "df = pd.read_csv(\"tomofun_train.csv\")"
   ]
  },
  {
   "cell_type": "code",
   "execution_count": 3,
   "id": "5cb091b1",
   "metadata": {},
   "outputs": [],
   "source": [
    "apply_augmentation_0 = Compose([\n",
    "        TimeStretch(min_rate=0.5, max_rate=1, p=1),\n",
    "        PitchShift(min_semitones=-4, max_semitones=4, p=1)\n",
    "    ])\n",
    "\n",
    "apply_augmentation_1 = Compose([\n",
    "        TimeStretch(min_rate=1, max_rate=1.5, p=1),\n",
    "        PitchShift(min_semitones=-4, max_semitones=4, p=1)\n",
    "    ])\n",
    "\n",
    "apply_augmentation_2 = Compose([\n",
    "        AddGaussianNoise(min_amplitude=0.001, max_amplitude=0.015, p=1),\n",
    "        Shift(min_fraction=1, max_fraction=1, rollover=True, p=1)\n",
    "    ])\n",
    "\n",
    "apply_augmentation_3 = Compose([\n",
    "        Gain(min_gain_in_db=-10, max_gain_in_db=10, p=0.5)\n",
    "    ])\n",
    "\n",
    "apply_augmentation_4 = Compose([\n",
    "        Clip(a_min=-1.0, a_max=1.0, p=0.5)\n",
    "    ])\n",
    "\n",
    "apply_augmentation_list = [apply_augmentation_0, apply_augmentation_1, apply_augmentation_2, apply_augmentation_3, apply_augmentation_4]"
   ]
  },
  {
   "cell_type": "code",
   "execution_count": 4,
   "id": "e4f96788",
   "metadata": {},
   "outputs": [],
   "source": [
    "wav_aug_path = 'tomofun_aug_train'\n",
    "\n",
    "try:\n",
    "    if not os.path.exists(wav_aug_path):\n",
    "        os.mkdir(wav_aug_path)\n",
    "except:\n",
    "    pass"
   ]
  },
  {
   "cell_type": "code",
   "execution_count": 5,
   "id": "b36213bb",
   "metadata": {},
   "outputs": [
    {
     "name": "stderr",
     "output_type": "stream",
     "text": [
      "100%|██████████| 1200/1200 [04:43<00:00,  4.24it/s]\n"
     ]
    }
   ],
   "source": [
    "aug_list = []\n",
    "start_time = time.time()\n",
    "\n",
    "for i in tqdm(os.listdir(wav_path)):\n",
    "    data, sr = torchaudio.load(os.path.join(wav_path, i))\n",
    "    wav_label = df.loc[df[\"fname\"] == i]['label'].values[0]\n",
    "    shutil.copy(os.path.join(wav_path, i), os.path.join(wav_aug_path, i))\n",
    "    \n",
    "    for j in range(len(apply_augmentation_list)):\n",
    "        audio_data = apply_augmentation_list[j](samples=data.numpy(), sample_rate=sr)\n",
    "        new_wav_name = \"aug_\" + str(j) + \"_\" + i\n",
    "        torchaudio.save(os.path.join(wav_aug_path, new_wav_name), torch.tensor(audio_data), sample_rate=sr)\n",
    "        aug_list.append({\"fname\":new_wav_name, \"label\":wav_label})\n",
    "    \n",
    "end_time = time.time()"
   ]
  },
  {
   "cell_type": "code",
   "execution_count": 6,
   "id": "d35415fc",
   "metadata": {},
   "outputs": [
    {
     "name": "stdout",
     "output_type": "stream",
     "text": [
      "283.1262562274933\n"
     ]
    }
   ],
   "source": [
    "print(end_time - start_time)"
   ]
  },
  {
   "cell_type": "code",
   "execution_count": 7,
   "id": "917652c1",
   "metadata": {},
   "outputs": [],
   "source": [
    "df = df.append(aug_list, ignore_index = True)\n",
    "df.to_csv(\"tomofun_aug_train.csv\", index=False)"
   ]
  },
  {
   "cell_type": "code",
   "execution_count": null,
   "id": "fb1ae181",
   "metadata": {},
   "outputs": [],
   "source": []
  }
 ],
 "metadata": {
  "kernelspec": {
   "display_name": "Python 3 (ipykernel)",
   "language": "python",
   "name": "python3"
  },
  "language_info": {
   "codemirror_mode": {
    "name": "ipython",
    "version": 3
   },
   "file_extension": ".py",
   "mimetype": "text/x-python",
   "name": "python",
   "nbconvert_exporter": "python",
   "pygments_lexer": "ipython3",
   "version": "3.7.10"
  }
 },
 "nbformat": 4,
 "nbformat_minor": 5
}
