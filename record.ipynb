{
 "cells": [
  {
   "cell_type": "code",
   "execution_count": 1,
   "id": "61ecf6a4",
   "metadata": {},
   "outputs": [],
   "source": [
    "from pyaudio import PyAudio, paInt16\n",
    "import numpy as np \n",
    "from datetime import datetime \n",
    "import wave"
   ]
  },
  {
   "cell_type": "code",
   "execution_count": 2,
   "id": "136f9459",
   "metadata": {},
   "outputs": [],
   "source": [
    "SAMPLING_RATE = 8000\n",
    "NUM_SAMPLES = 2000\n",
    "TIME_COUNT = 10\n",
    "LEVEL = 500\n",
    "COUNT_NUM = 20\n",
    "SAVE_LENGTH = 8\n",
    "Voice_String = []"
   ]
  },
  {
   "cell_type": "code",
   "execution_count": 3,
   "id": "55e51eea",
   "metadata": {},
   "outputs": [],
   "source": [
    "pa = PyAudio() \n",
    "stream = pa.open(format=paInt16, channels=1, rate=SAMPLING_RATE, \n",
    "                 input=True, frames_per_buffer=NUM_SAMPLES)"
   ]
  },
  {
   "cell_type": "code",
   "execution_count": 4,
   "id": "c25dca0b",
   "metadata": {},
   "outputs": [
    {
     "name": "stdout",
     "output_type": "stream",
     "text": [
      "record...\n",
      "record...\n",
      "record...\n",
      "record...\n",
      "record...\n",
      "record...\n",
      "record...\n",
      "record...\n",
      "record...\n",
      "record...\n",
      "record...\n",
      "record...\n",
      "record...\n",
      "record...\n",
      "record...\n",
      "record...\n",
      "record...\n",
      "record...\n",
      "record...\n",
      "record...\n",
      "record...\n",
      "record...\n",
      "record...\n",
      "record...\n",
      "record...\n",
      "record...\n",
      "record...\n",
      "record...\n",
      "record...\n",
      "record...\n",
      "record...\n",
      "record...\n",
      "record...\n",
      "record...\n",
      "record...\n",
      "record...\n",
      "record...\n",
      "record...\n",
      "record...\n",
      "record...\n",
      "record...\n",
      "record...\n",
      "record...\n",
      "record...\n",
      "record...\n",
      "record...\n",
      "record...\n",
      "record...\n",
      "record...\n",
      "record...\n"
     ]
    },
    {
     "name": "stderr",
     "output_type": "stream",
     "text": [
      "C:\\Users\\joy\\anaconda3\\envs\\python3_7\\lib\\site-packages\\ipykernel_launcher.py:14: DeprecationWarning: tostring() is deprecated. Use tobytes() instead.\n",
      "  \n"
     ]
    }
   ],
   "source": [
    "my_buf = []\n",
    "cnt = 0\n",
    "\n",
    "while cnt < TIME_COUNT*5:\n",
    "    string_audio_data = stream.read(NUM_SAMPLES)\n",
    "    my_buf.append(string_audio_data)\n",
    "    cnt += 1\n",
    "    print(\"record...\")\n",
    "    \n",
    "wf = wave.open(\"test.wav\", 'wb') \n",
    "wf.setnchannels(1) \n",
    "wf.setsampwidth(2) \n",
    "wf.setframerate(SAMPLING_RATE) \n",
    "wf.writeframes(np.array(my_buf).tostring()) \n",
    "wf.close()\n",
    "stream.close()"
   ]
  },
  {
   "cell_type": "code",
   "execution_count": null,
   "id": "09526f29",
   "metadata": {},
   "outputs": [],
   "source": []
  }
 ],
 "metadata": {
  "kernelspec": {
   "display_name": "Python [conda env:python3_7]",
   "language": "python",
   "name": "conda-env-python3_7-py"
  },
  "language_info": {
   "codemirror_mode": {
    "name": "ipython",
    "version": 3
   },
   "file_extension": ".py",
   "mimetype": "text/x-python",
   "name": "python",
   "nbconvert_exporter": "python",
   "pygments_lexer": "ipython3",
   "version": "3.7.11"
  }
 },
 "nbformat": 4,
 "nbformat_minor": 5
}
